{
  "nbformat": 4,
  "nbformat_minor": 0,
  "metadata": {
    "colab": {
      "provenance": []
    },
    "kernelspec": {
      "name": "python3",
      "display_name": "Python 3"
    },
    "language_info": {
      "name": "python"
    }
  },
  "cells": [
    {
      "cell_type": "markdown",
      "source": [
        "## **Importing the necessary libraries**"
      ],
      "metadata": {
        "id": "Zx6FKXlCJaSq"
      }
    },
    {
      "cell_type": "code",
      "source": [
        "import os\n",
        "import numpy as np                                                                               # Importing numpy for Matrix Operations\n",
        "import pandas as pd                                                                              # Importing pandas to read CSV files\n",
        "import matplotlib.pyplot as plt                                                                  # Importting matplotlib for Plotting and visualizing images\n",
        "import math                                                                                      # Importing math module to perform mathematical operations\n",
        "import cv2                                                                                       # Importing openCV for image processing\n",
        "import seaborn as sns                                                                            # Importing seaborn to plot graphs\n"
      ],
      "metadata": {
        "id": "A97DK9FiJoh4"
      },
      "execution_count": null,
      "outputs": []
    },
    {
      "cell_type": "code",
      "source": [
        "# Mount Google drive to access the dataset (monkeys_dataset.zip)\n",
        "from google.colab import drive\n",
        "drive.mount('/content/drive')"
      ],
      "metadata": {
        "id": "DBGB6FwdJddc"
      },
      "execution_count": null,
      "outputs": []
    },
    {
      "cell_type": "code",
      "source": [
        "# Load the image file of the dataset\n",
        "images = np.load('/content/drive/MyDrive/Files/Data/images.npy')\n",
        "\n",
        "# Load the labels file of the dataset\n",
        "labels = pd.read_csv('/content/drive/MyDrive/Files/Data/Labels.csv')"
      ],
      "metadata": {
        "id": "WNepZWKTJnSL"
      },
      "execution_count": null,
      "outputs": []
    }
  ]
}